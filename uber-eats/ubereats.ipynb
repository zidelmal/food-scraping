{
 "cells": [
  {
   "cell_type": "code",
   "execution_count": null,
   "metadata": {},
   "outputs": [],
   "source": [
    "from selenium import webdriver\n",
    "from selenium.webdriver.common.keys import Keys\n",
    "from selenium.webdriver.support import expected_conditions as EC\n",
    "from selenium.webdriver.common.by import By\n",
    "from selenium.webdriver.support.wait import WebDriverWait\n",
    "from selenium.webdriver.chrome.options import Options\n",
    "from selenium.webdriver.support.ui import Select\n",
    "from webdriver_manager.chrome import ChromeDriverManager\n",
    "import pandas as pd\n",
    "from time import sleep\n",
    "import time\n",
    "from datetime import datetime\n",
    "chrome_options = webdriver.ChromeOptions()\n",
    "prefs = {\"profile.default_content_setting_values.notifications\" : 2}\n",
    "chrome_options.add_experimental_option(\"prefs\",prefs)\n",
    "# chrome_options.add_argument('headless')\n",
    "# chrome_options.add_argument('window-size=0x0')\n",
    "#specify the path to msedgedriver.exe (download and save on your computer)\n",
    "driver = webdriver.Chrome()\n",
    "driver.implicitly_wait(5)"
   ]
  },
  {
   "cell_type": "code",
   "execution_count": null,
   "metadata": {},
   "outputs": [],
   "source": [
    "# ville = 'https://www.ubereats.com/fr/category/paris-idf'\n",
    "ville = 'https://www.ubereats.com/fr/category/marseille-pac'"
   ]
  },
  {
   "cell_type": "code",
   "execution_count": null,
   "metadata": {},
   "outputs": [],
   "source": [
    "driver.get(ville)\n",
    "\n",
    "categories_url = [url.get_attribute('href') for url in driver.find_elements(By.XPATH, value='//*[@id=\"main-content\"]/div[2]/div[3]/a')]"
   ]
  },
  {
   "cell_type": "code",
   "execution_count": null,
   "metadata": {},
   "outputs": [],
   "source": [
    "driver.get(categories_url[0])"
   ]
  },
  {
   "cell_type": "code",
   "execution_count": null,
   "metadata": {},
   "outputs": [],
   "source": [
    "restaurants = driver.find_elements(\n",
    "        by=By.XPATH, \n",
    "        value='//*[@id=\"main-content\"]//a[@data-testid=\"store-card\"]'\n",
    "        )"
   ]
  },
  {
   "cell_type": "code",
   "execution_count": null,
   "metadata": {},
   "outputs": [],
   "source": [
    "restaurants"
   ]
  },
  {
   "cell_type": "code",
   "execution_count": null,
   "metadata": {},
   "outputs": [],
   "source": [
    "### BEFORE ALL RESTAURANTS OPEN\n",
    "data = pd.DataFrame()\n",
    "for category in categories_url[84:]:\n",
    "    driver.get(category)\n",
    "    restaurants = driver.find_elements(\n",
    "        by=By.XPATH, \n",
    "        value='//*[@id=\"main-content\"]//div[@class=\"ak c3\"]'\n",
    "        )\n",
    "    informations = {\n",
    "        'url': [],\n",
    "        'name': [],\n",
    "        'delivery_price': [],\n",
    "        'delivery_time': [],\n",
    "        \"rating\": [],\n",
    "        'promotion': []\n",
    "    }\n",
    "\n",
    "    for i, restaurant in enumerate(restaurants):\n",
    "        informations['url'].append(driver.find_element(By.XPATH, value=f'//*[@id=\"main-content\"]//div[@class=\"ak c3\"][{i+1}]/a').get_attribute('href'))\n",
    "        informations['name'].append(driver.find_element(by=By.XPATH, value=f'//*[@id=\"main-content\"]//div[@class=\"ak c3\"][{i+1}]/a/h3').text.strip())\n",
    "        try:\n",
    "            informations['delivery_price'].append(driver.find_element(by=By.XPATH, value=f'//*[@id=\"main-content\"]//div[@class=\"ak c3\"][{i+1}]/div/div[2]/div[1]/div/div[2]/div/span').text.strip('Frais de livraison : '))\n",
    "            informations['delivery_time'].append(driver.find_element(by=By.XPATH, value=f'//*[@id=\"main-content\"]//div[@class=\"ak c3\"][{i+1}]/div/div[2]/div[1]/div/div[1]/div/span').text.strip(' min'))\n",
    "        except:\n",
    "            informations['delivery_price'].append(\"\")\n",
    "            informations['delivery_time'].append(\"\")\n",
    "        # informations['categories'].append(', '.join(driver.find_element(by=By.XPATH, value=f'//*[@id=\"main-content\"]/div[5]/div[2]/a[{i+1}]/div[2]/span').text.split(' • ')))\n",
    "        # informations['address'].append(driver.find_element(by=By.XPATH, value=f'//*[@id=\"main-content\"]/div[5]/div[2]/a[{i+1}]/div[2]/div[2]/span[2]').text.strip())\n",
    "        informations['rating'].append(driver.find_element(by=By.XPATH, value=f'//*[@id=\"main-content\"]//div[@class=\"ak c3\"][{i+1}]/div/div[2]/div[3]').text.strip())\n",
    "        try:\n",
    "            informations['promotion'].append(driver.find_element(by=By.XPATH, value=f'//*[@id=\"main-content\"]//div[@class=\"ak c3\"][{i+1}]/div/div[1]/div').text.strip())\n",
    "        except:\n",
    "            informations['promotion'].append('')\n",
    "    data = pd.concat([data,pd.DataFrame(informations)])\n",
    "    print(data)"
   ]
  },
  {
   "cell_type": "code",
   "execution_count": null,
   "metadata": {},
   "outputs": [],
   "source": [
    "data.to_csv('uberEats_marseille_before.csv', index=False)"
   ]
  }
 ],
 "metadata": {
  "kernelspec": {
   "display_name": "env",
   "language": "python",
   "name": "python3"
  },
  "language_info": {
   "codemirror_mode": {
    "name": "ipython",
    "version": 3
   },
   "file_extension": ".py",
   "mimetype": "text/x-python",
   "name": "python",
   "nbconvert_exporter": "python",
   "pygments_lexer": "ipython3",
   "version": "3.11.2"
  },
  "orig_nbformat": 4
 },
 "nbformat": 4,
 "nbformat_minor": 2
}
